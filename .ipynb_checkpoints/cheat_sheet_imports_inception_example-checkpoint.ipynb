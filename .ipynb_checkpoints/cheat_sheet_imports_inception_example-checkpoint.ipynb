{
 "cells": [
  {
   "cell_type": "code",
   "execution_count": 1,
   "metadata": {},
   "outputs": [
    {
     "name": "stdout",
     "output_type": "stream",
     "text": [
      "# conda environments:\r\n",
      "#\r\n",
      "base                  *  /home/laura/anaconda3\r\n",
      "transfer_learning        /home/laura/anaconda3/envs/transfer_learning\r\n",
      "\r\n"
     ]
    }
   ],
   "source": [
    "!conda env list"
   ]
  },
  {
   "cell_type": "code",
   "execution_count": 22,
   "metadata": {},
   "outputs": [
    {
     "data": {
      "text/plain": [
       "['jupyter                   1.0.0                    py37_7  ',\n",
       " 'jupyter-contrib-core      0.3.3                    pypi_0    pypi',\n",
       " 'jupyter-contrib-nbextensions 0.5.1                    pypi_0    pypi',\n",
       " 'jupyter-highlight-selected-word 0.2.0                    pypi_0    pypi',\n",
       " 'jupyter-latex-envs        1.4.6                    pypi_0    pypi',\n",
       " 'jupyter-nbextensions-configurator 0.4.1                    pypi_0    pypi',\n",
       " 'jupyter_client            5.3.1                      py_0  ',\n",
       " 'jupyter_console           6.0.0                    py37_0  ',\n",
       " 'jupyter_core              4.5.0                      py_0  ',\n",
       " 'jupyterlab                1.1.3              pyhf63ae98_0  ',\n",
       " 'jupyterlab_server         1.0.0                      py_1  ']"
      ]
     },
     "execution_count": 22,
     "metadata": {},
     "output_type": "execute_result"
    }
   ],
   "source": [
    "base_packages = !conda list\n",
    "jb = [p for p in base_packages if 'jupyter' in p]\n",
    "jb"
   ]
  },
  {
   "cell_type": "code",
   "execution_count": null,
   "metadata": {},
   "outputs": [],
   "source": [
    "# the repos packages for comparison\n",
    "# https://github.com/anjanatiha/Pneumonia-Detection-from-Chest-X-Ray-Images-with-Deep-Learning/blob/master/requirements.txt\n",
    "#### Library/Tools Version\n",
    "\"numpy\" - 1.14.3\n",
    "- pandas - 0.23.0\n",
    "- shutil\n",
    "- gc\n",
    "- inspect\n",
    "- tqdm - 4.28.1\n",
    "- re\n",
    "- keras - 2.2.4\n",
    "- Keras-preprocessing - v1.0.5\n",
    "- tensorflow - 1.12\n",
    "- PIL/Pillow - 5.1.0\n",
    "- opencv-python - 3.4.4.19\n",
    "- matplotlib - 2.2.2\n",
    "- seaborn - 0.8.1\n",
    "- scikit-learn - 0.20.1\n",
    "- mlxtend - 0.14.0"
   ]
  },
  {
   "cell_type": "markdown",
   "metadata": {},
   "source": [
    "```conda create --name transfer_learning python pip keras sklearn tensorflow seaborn matplotlib mlxtend PIL cv2 shutil tqdm numpy datetime collections random argparse os sys```"
   ]
  },
  {
   "cell_type": "code",
   "execution_count": 28,
   "metadata": {},
   "outputs": [],
   "source": [
    "packages = !conda list -n transfer_learning"
   ]
  },
  {
   "cell_type": "code",
   "execution_count": 20,
   "metadata": {},
   "outputs": [
    {
     "data": {
      "text/plain": [
       "['# packages in environment at /home/laura/anaconda3/envs/transfer_learning:',\n",
       " '#',\n",
       " '# Name                    Version                   Build  Channel',\n",
       " '_libgcc_mutex             0.1                        main  ',\n",
       " '_tflow_select             2.3.0                       mkl  ',\n",
       " 'absl-py                   0.7.1                    py37_0  ',\n",
       " 'astor                     0.8.0                    py37_0  ',\n",
       " 'attrs                     19.1.0                   py37_1  ',\n",
       " 'backcall                  0.1.0                    py37_0  ',\n",
       " 'blas                      1.0                         mkl  ',\n",
       " 'bleach                    3.1.0                    py37_0  ',\n",
       " 'c-ares                    1.15.0            h7b6447c_1001  ',\n",
       " 'ca-certificates           2019.5.15                     1  ',\n",
       " 'certifi                   2019.6.16                py37_1  ',\n",
       " 'cycler                    0.10.0                   py37_0  ',\n",
       " 'dbus                      1.13.6               h746ee38_0  ',\n",
       " 'decorator                 4.4.0                    py37_1  ',\n",
       " 'defusedxml                0.6.0                      py_0  ',\n",
       " 'entrypoints               0.3                      py37_0  ',\n",
       " 'expat                     2.2.6                he6710b0_0  ',\n",
       " 'fontconfig                2.13.0               h9420a91_0  ',\n",
       " 'freetype                  2.9.1                h8a8886c_1  ',\n",
       " 'gast                      0.2.2                    py37_0  ',\n",
       " 'glib                      2.56.2               hd408876_0  ',\n",
       " 'gmp                       6.1.2                h6c8ec71_1  ',\n",
       " 'google-pasta              0.1.7                      py_0  ',\n",
       " 'grpcio                    1.16.1           py37hf8bcb03_1  ',\n",
       " 'gst-plugins-base          1.14.0               hbbd80ab_1  ',\n",
       " 'gstreamer                 1.14.0               hb453b48_1  ',\n",
       " 'h5py                      2.9.0            py37h7918eee_0  ',\n",
       " 'hdf5                      1.10.4               hb1b8bf9_0  ',\n",
       " 'icu                       58.2                 h9c2bf20_1  ',\n",
       " 'intel-openmp              2019.4                      243  ',\n",
       " 'ipykernel                 5.1.2            py37h39e3cac_0  ',\n",
       " 'ipython                   7.8.0            py37h39e3cac_0  ',\n",
       " 'ipython_genutils          0.2.0                    py37_0  ',\n",
       " 'ipywidgets                7.5.1                      py_0  ',\n",
       " 'jedi                      0.15.1                   py37_0  ',\n",
       " 'jinja2                    2.10.1                   py37_0  ',\n",
       " 'joblib                    0.13.2                   py37_0  ',\n",
       " 'jpeg                      9b                   h024ee3a_2  ',\n",
       " 'jsonschema                3.0.2                    py37_0  ',\n",
       " 'jupyter                   1.0.0                    py37_7  ',\n",
       " 'jupyter_client            5.3.1                      py_0  ',\n",
       " 'jupyter_console           6.0.0                    py37_0  ',\n",
       " 'jupyter_core              4.5.0                      py_0  ',\n",
       " 'keras                     2.2.4                         0  ',\n",
       " 'keras-applications        1.0.8                      py_0  ',\n",
       " 'keras-base                2.2.4                    py37_0  ',\n",
       " 'keras-preprocessing       1.1.0                      py_1  ',\n",
       " 'kiwisolver                1.1.0            py37he6710b0_0  ',\n",
       " 'libedit                   3.1.20181209         hc058e9b_0  ',\n",
       " 'libffi                    3.2.1                hd88cf55_4  ',\n",
       " 'libgcc-ng                 9.1.0                hdf63c60_0  ',\n",
       " 'libgfortran-ng            7.3.0                hdf63c60_0  ',\n",
       " 'libpng                    1.6.37               hbc83047_0  ',\n",
       " 'libprotobuf               3.8.0                hd408876_0  ',\n",
       " 'libsodium                 1.0.16               h1bed415_0  ',\n",
       " 'libstdcxx-ng              9.1.0                hdf63c60_0  ',\n",
       " 'libtiff                   4.0.10               h2733197_2    anaconda',\n",
       " 'libuuid                   1.0.3                h1bed415_2  ',\n",
       " 'libxcb                    1.13                 h1bed415_1  ',\n",
       " 'libxml2                   2.9.9                hea5a465_1  ',\n",
       " 'markdown                  3.1.1                    py37_0  ',\n",
       " 'markupsafe                1.1.1            py37h7b6447c_0  ',\n",
       " 'matplotlib                3.1.1            py37h5429711_0  ',\n",
       " 'mistune                   0.8.4            py37h7b6447c_0  ',\n",
       " 'mkl                       2019.4                      243  ',\n",
       " 'mkl-service               2.3.0            py37he904b0f_0  ',\n",
       " 'mkl_fft                   1.0.14           py37ha843d7b_0  ',\n",
       " 'mkl_random                1.0.2            py37hd81dba3_0  ',\n",
       " 'nb_conda_kernels          2.2.2                    py37_0  ',\n",
       " 'nbconvert                 5.5.0                      py_0  ',\n",
       " 'nbformat                  4.4.0                    py37_0  ',\n",
       " 'ncurses                   6.1                  he6710b0_1  ',\n",
       " 'notebook                  6.0.1                    py37_0  ',\n",
       " 'numpy                     1.16.5           py37h7e9f1db_0  ',\n",
       " 'numpy-base                1.16.5           py37hde5b4d6_0  ',\n",
       " 'olefile                   0.46                     py37_0    anaconda',\n",
       " 'opencv-python             4.1.1.26                 pypi_0    pypi',\n",
       " 'openssl                   1.1.1d               h7b6447c_1  ',\n",
       " 'pandas                    0.25.1           py37he6710b0_0  ',\n",
       " 'pandoc                    2.2.3.2                       0  ',\n",
       " 'pandocfilters             1.4.2                    py37_1  ',\n",
       " 'parso                     0.5.1                      py_0  ',\n",
       " 'patsy                     0.5.1                    py37_0  ',\n",
       " 'pcre                      8.43                 he6710b0_0  ',\n",
       " 'pexpect                   4.7.0                    py37_0  ',\n",
       " 'pickleshare               0.7.5                    py37_0  ',\n",
       " 'pillow                    6.1.0            py37h34e0f95_0    anaconda',\n",
       " 'pip                       19.2.2                   py37_0  ',\n",
       " 'prometheus_client         0.7.1                      py_0  ',\n",
       " 'prompt_toolkit            2.0.9                    py37_0  ',\n",
       " 'protobuf                  3.8.0            py37he6710b0_0  ',\n",
       " 'ptyprocess                0.6.0                    py37_0  ',\n",
       " 'pygments                  2.4.2                      py_0  ',\n",
       " 'pyparsing                 2.4.2                      py_0  ',\n",
       " 'pyqt                      5.9.2            py37h05f1152_2  ',\n",
       " 'pyrsistent                0.14.11          py37h7b6447c_0  ',\n",
       " 'python                    3.7.4                h265db76_1  ',\n",
       " 'python-dateutil           2.8.0                    py37_0  ',\n",
       " 'pytz                      2019.2                     py_0  ',\n",
       " 'pyyaml                    5.1.2            py37h7b6447c_0  ',\n",
       " 'pyzmq                     18.1.0           py37he6710b0_0  ',\n",
       " 'qt                        5.9.7                h5867ecd_1  ',\n",
       " 'qtconsole                 4.5.5                      py_0  ',\n",
       " 'readline                  7.0                  h7b6447c_5  ',\n",
       " 'scikit-learn              0.21.2           py37hd81dba3_0  ',\n",
       " 'scipy                     1.3.1            py37h7c811a0_0  ',\n",
       " 'seaborn                   0.9.0                    py37_0  ',\n",
       " 'send2trash                1.5.0                    py37_0  ',\n",
       " 'setuptools                41.0.1                   py37_0  ',\n",
       " 'sip                       4.19.8           py37hf484d3e_0  ',\n",
       " 'six                       1.12.0                   py37_0  ',\n",
       " 'sqlite                    3.29.0               h7b6447c_0  ',\n",
       " 'statsmodels               0.10.1           py37hdd07704_0  ',\n",
       " 'tensorboard               1.14.0           py37hf484d3e_0  ',\n",
       " 'tensorflow                1.14.0          mkl_py37h45c423b_0  ',\n",
       " 'tensorflow-base           1.14.0          mkl_py37h7ce6ba3_0  ',\n",
       " 'tensorflow-estimator      1.14.0                     py_0  ',\n",
       " 'termcolor                 1.1.0                    py37_1  ',\n",
       " 'terminado                 0.8.2                    py37_0  ',\n",
       " 'testpath                  0.4.2                    py37_0  ',\n",
       " 'tk                        8.6.8                hbc83047_0  ',\n",
       " 'tornado                   6.0.3            py37h7b6447c_0  ',\n",
       " 'tqdm                      4.32.1                     py_0  ',\n",
       " 'traitlets                 4.3.2                    py37_0  ',\n",
       " 'wcwidth                   0.1.7                    py37_0  ',\n",
       " 'webencodings              0.5.1                    py37_1  ',\n",
       " 'werkzeug                  0.15.5                     py_0  ',\n",
       " 'wheel                     0.33.4                   py37_0  ',\n",
       " 'widgetsnbextension        3.5.1                    py37_0  ',\n",
       " 'wrapt                     1.11.2           py37h7b6447c_0  ',\n",
       " 'xz                        5.2.4                h14c3975_4  ',\n",
       " 'yaml                      0.1.7                had09818_2  ',\n",
       " 'zeromq                    4.3.1                he6710b0_3  ',\n",
       " 'zlib                      1.2.11               h7b6447c_3  ',\n",
       " 'zstd                      1.3.7                h0b5b093_0    anaconda']"
      ]
     },
     "execution_count": 20,
     "metadata": {},
     "output_type": "execute_result"
    }
   ],
   "source": [
    "packages"
   ]
  },
  {
   "cell_type": "code",
   "execution_count": 29,
   "metadata": {},
   "outputs": [
    {
     "data": {
      "text/plain": [
       "['jupyter                   1.0.0                    py37_7  ',\n",
       " 'jupyter_client            5.3.1                      py_0  ',\n",
       " 'jupyter_console           6.0.0                    py37_0  ',\n",
       " 'jupyter_core              4.5.0                      py_0  ']"
      ]
     },
     "execution_count": 29,
     "metadata": {},
     "output_type": "execute_result"
    }
   ],
   "source": [
    "jtl = [f for f in packages if \"jupyter\" in f]\n",
    "jtl"
   ]
  },
  {
   "cell_type": "code",
   "execution_count": 27,
   "metadata": {},
   "outputs": [
    {
     "data": {
      "text/plain": [
       "{'jupyter-contrib-core      0.3.3                    pypi_0    pypi',\n",
       " 'jupyter-contrib-nbextensions 0.5.1                    pypi_0    pypi',\n",
       " 'jupyter-highlight-selected-word 0.2.0                    pypi_0    pypi',\n",
       " 'jupyter-latex-envs        1.4.6                    pypi_0    pypi',\n",
       " 'jupyter-nbextensions-configurator 0.4.1                    pypi_0    pypi',\n",
       " 'jupyterlab                1.1.3              pyhf63ae98_0  ',\n",
       " 'jupyterlab_server         1.0.0                      py_1  '}"
      ]
     },
     "execution_count": 27,
     "metadata": {},
     "output_type": "execute_result"
    }
   ],
   "source": [
    "set(jb) - set(jtl)"
   ]
  },
  {
   "cell_type": "code",
   "execution_count": 14,
   "metadata": {},
   "outputs": [
    {
     "data": {
      "text/plain": [
       "['keras                     2.2.4                         0  ',\n",
       " 'numpy                     1.16.5           py37h7e9f1db_0  ',\n",
       " 'tensorflow                1.14.0          mkl_py37h45c423b_0  ']"
      ]
     },
     "execution_count": 14,
     "metadata": {},
     "output_type": "execute_result"
    }
   ],
   "source": [
    "[f for f in packages if f.split()[0] in ['numpy', \"pandas\", \"tqdm\", \"keras\", \"tensorflow\", \n",
    "                              \"matplotlib\", \"PIL/Pillow\", \"opencv-python\", \n",
    "                              \"seaborn\", \"scikit-learn\", \"mlxtend\"]]"
   ]
  },
  {
   "cell_type": "markdown",
   "metadata": {},
   "source": [
    "# you'll need to get:\n",
    "* PIL/Pillow - 5.1.0 `conda install -c anaconda pillow`\n",
    "* tqdm - 4.28.1 `conda install tqdm scikit-learn seaborn matplotlib`\n",
    "* opencv-python - 3.4.4.19 `pip install opencv-python`\n",
    "* sklearn\n",
    "* seaborn\n",
    "* mlxtend `conda install mlxtend --channel conda-forge`\n",
    "* matplotlib\n",
    "* MAY NEED TO roll back to tensorflow 1.12\n",
    "\n",
    "to install opencv:\n",
    "`conda install -c conda-forge opencv`\n",
    "\n",
    "\n",
    "To install jupyter:\n",
    "`conda install jupyter`\n",
    "`conda install nb_conda_kernels`"
   ]
  },
  {
   "cell_type": "code",
   "execution_count": null,
   "metadata": {},
   "outputs": [],
   "source": []
  }
 ],
 "metadata": {
  "kernelspec": {
   "display_name": "Python 3",
   "language": "python",
   "name": "python3"
  },
  "language_info": {
   "codemirror_mode": {
    "name": "ipython",
    "version": 3
   },
   "file_extension": ".py",
   "mimetype": "text/x-python",
   "name": "python",
   "nbconvert_exporter": "python",
   "pygments_lexer": "ipython3",
   "version": "3.7.4"
  }
 },
 "nbformat": 4,
 "nbformat_minor": 2
}

{
 "cells": [
  {
   "cell_type": "markdown",
   "metadata": {},
   "source": [
    "### WORKFLOW For Deep Learning\n",
    "\n",
    "1. Understand the problem and what type of results you want to get (what do you want the model to do)\n",
    "\n",
    "1. Create (or activate) Conda environment with libraries needed\n",
    "1. Get data\n",
    "1. Read about inception v3\n",
    "1. Read documentation on tf & keras. Here look for:\n",
    "    1. Quick starts relevant to the project\n",
    "    1. Images/ handling data/augmentation\n",
    "    1. Transfer learning\n",
    "    1. Model development\n",
    "    1. watch videos at 1.5 speed on Keras, tensoflow, and image classification (or whatever libraries you need to better understand, and the problem presented in the project)\n",
    "1. As you read doc, start a notebook and develop an outline/workflow\n",
    "1. Create project directories:\n",
    "    1. data\n",
    "    1. Model\n",
    "    1. Images\n",
    "    1. CSV files, etc\n",
    "   \n",
    "\n",
    "After this:\n",
    "1. Pre-machine learning:\n",
    "    1. Get data\n",
    "    1. Read data\n",
    "    1. Normalize the data\n",
    "\n",
    "1. try the sklearn preprocessing module (min_max_scaler)\n",
    "1. explore/visualize data\n",
    "\n",
    "Deep learning:\n",
    "\n",
    "1. (optional) experiment with different ways to handle to images (augmentation, distortion, etc.)\n",
    "1. use regularization to correct/prevent overfitting by selecting the type of normalizer adam, relu, dropout, rate, etc.\n",
    "1. split the data train vs. test ?????\n",
    "    1. try different percentages splits\n",
    "    1. using sklearn.model_selection.train_test_split\n",
    "\n",
    "1. Build a model(s) appropriate for the problem: try a couple different models??\n",
    "\n",
    "    1. Logistic Regression (used mostly for classification)???\n",
    "    1. Random Forest Classification???"
   ]
  },
  {
   "cell_type": "markdown",
   "metadata": {},
   "source": [
    "## How deep learning works in Inception v3\n",
    "\n",
    "    \n",
    "\n",
    "### Deep learning network to classify new images\n",
    "Source: https://www.mathworks.com/help/deeplearning/examples/train-deep-learning-network-to-classify-new-images.html\n",
    "1. Load data\n",
    "1. Load pretrained network\n",
    "1. Replace final layers\n",
    "1. Freeze the weight of initial layers (optional)\n",
    "1. Train network\n",
    "    1. Scale\n",
    "    1. augmentation\n",
    "    1. specify # of epochs\n",
    "    \n",
    "1. Classify validation images\n"
   ]
  }
 ],
 "metadata": {
  "kernelspec": {
   "display_name": "Python 3",
   "language": "python",
   "name": "python3"
  },
  "language_info": {
   "codemirror_mode": {
    "name": "ipython",
    "version": 3
   },
   "file_extension": ".py",
   "mimetype": "text/x-python",
   "name": "python",
   "nbconvert_exporter": "python",
   "pygments_lexer": "ipython3",
   "version": "3.7.4"
  }
 },
 "nbformat": 4,
 "nbformat_minor": 2
}
